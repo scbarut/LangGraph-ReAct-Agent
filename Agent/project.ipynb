{
 "cells": [
  {
   "cell_type": "code",
   "execution_count": 1,
   "id": "947d4d01-d4dd-4cfa-9133-510b5faf5b32",
   "metadata": {},
   "outputs": [
    {
     "name": "stderr",
     "output_type": "stream",
     "text": [
      "C:\\Users\\Sadık\\AppData\\Local\\Temp\\ipykernel_22300\\7167622.py:25: DeprecationWarning: 'imghdr' is deprecated and slated for removal in Python 3.13\n",
      "  import imghdr\n"
     ]
    }
   ],
   "source": [
    "from typing import List\n",
    "from langchain_core.messages import AnyMessage, HumanMessage, AIMessage, SystemMessage\n",
    "from langgraph.prebuilt import ToolNode\n",
    "from langgraph.graph import START, StateGraph, END\n",
    "from langgraph.prebuilt import tools_condition\n",
    "import google.generativeai as genai\n",
    "from langchain_google_genai import ChatGoogleGenerativeAI\n",
    "from IPython.display import Image, display\n",
    "import requests\n",
    "from langgraph.checkpoint.memory import MemorySaver\n",
    "from langchain_google_genai import ChatGoogleGenerativeAI\n",
    "from langchain_community.utilities import DuckDuckGoSearchAPIWrapper, WikipediaAPIWrapper\n",
    "from google.generativeai.types import HarmCategory, HarmBlockThreshold\n",
    "from langgraph.graph import MessagesState\n",
    "from typing import Optional, Any, Dict, Set\n",
    "import re\n",
    "from transformers import pipeline\n",
    "from langchain_community.tools.tavily_search import TavilySearchResults\n",
    "import base64\n",
    "import soundfile as sf\n",
    "import io\n",
    "import torch\n",
    "from io import BytesIO\n",
    "import mimetypes\n",
    "import imghdr\n",
    "from urllib.parse import urlparse\n",
    "import os"
   ]
  },
  {
   "cell_type": "code",
   "execution_count": 2,
   "id": "f02e0fa4-a011-48ab-8364-225f58a14ecf",
   "metadata": {},
   "outputs": [],
   "source": [
    "import warnings\n",
    "\n",
    "warnings.filterwarnings(\"ignore\")"
   ]
  },
  {
   "cell_type": "code",
   "execution_count": 3,
   "id": "9af6a2cd-f947-4961-8b97-6db52a9179bb",
   "metadata": {},
   "outputs": [
    {
     "name": "stdout",
     "output_type": "stream",
     "text": [
      "API keys loaded successfully!\n"
     ]
    }
   ],
   "source": [
    "from dotenv import load_dotenv  \n",
    "\n",
    "load_dotenv()\n",
    "\n",
    "api_key = os.getenv('GOOGLE_API_KEY')\n",
    "TAVILY_API_KEY = os.getenv(\"TAVILY_API_KEY\")\n",
    "\n",
    "if (api_key and TAVILY_API_KEY) :\n",
    "    print(\"API keys loaded successfully!\")  \n",
    "else:\n",
    "    raise ValueError(\"API key not found! Please check the .env file.\")"
   ]
  },
  {
   "cell_type": "code",
   "execution_count": null,
   "id": "c7862c19-675c-48d1-8612-68d51ad7ba9d",
   "metadata": {},
   "outputs": [],
   "source": [
    "def _setup_llm():\n",
    "        \"\"\"Set up the language model.\"\"\"\n",
    "        # Set up model with video capabilities\n",
    "        generation_config = {\n",
    "            \"temperature\": 0.0,\n",
    "            \"max_output_tokens\": 2000,\n",
    "            \"candidate_count\": 1,\n",
    "        }\n",
    "        \n",
    "        safety_settings = {\n",
    "            HarmCategory.HARM_CATEGORY_HARASSMENT: HarmBlockThreshold.BLOCK_MEDIUM_AND_ABOVE,\n",
    "            HarmCategory.HARM_CATEGORY_HATE_SPEECH: HarmBlockThreshold.BLOCK_MEDIUM_AND_ABOVE,\n",
    "            HarmCategory.HARM_CATEGORY_SEXUALLY_EXPLICIT: HarmBlockThreshold.BLOCK_MEDIUM_AND_ABOVE,\n",
    "            HarmCategory.HARM_CATEGORY_DANGEROUS_CONTENT: HarmBlockThreshold.BLOCK_MEDIUM_AND_ABOVE,\n",
    "        }\n",
    "        \n",
    "        return ChatGoogleGenerativeAI(\n",
    "            model=\"gemini-2.0-flash\",\n",
    "            google_api_key=api_key,\n",
    "            temperature=0,\n",
    "            max_output_tokens=2000,\n",
    "            generation_config=generation_config,\n",
    "            safety_settings=safety_settings,\n",
    "            system_message=SystemMessage(content=(\"\"\"\n",
    "            You are an intelligent and capable AI assistant integrated with a set of tools. Your job is to understand the user's request, determine the best way to fulfill it, and use the tools provided when necessary to produce accurate and helpful results.\n",
    "\n",
    "            Your behavior should follow these principles:\n",
    "            - Always think step by step before answering.\n",
    "            - Only respond after reasoning through the problem.\n",
    "            - Use tools if the task requires external capabilities.\n",
    "            - If a tool is used, return the result of the tool in a clear and user-friendly way.\n",
    "            - If a task does not require tool use, complete it using your own capabilities.\n",
    "            - Be concise but informative. Avoid unnecessary verbosity.\n",
    "            - If the user input is unclear, ask clarifying questions before taking action.\n",
    "            - Do not hallucinate results. If you're unsure, say so or use the appropriate tool.\n",
    "            \n",
    "            You can interact with tools, but you are not the tool yourself. Use them wisely and only when needed.\n",
    "            \n",
    "            Your goal is to be useful, precise, and aligned with the user's intent.\n",
    "\"\"\"\n",
    "            ))\n",
    "        )"
   ]
  },
  {
   "cell_type": "code",
   "execution_count": 5,
   "id": "9fa1a3b4-416e-435b-8eff-0073e39cdb5d",
   "metadata": {},
   "outputs": [],
   "source": [
    "llm = _setup_llm()"
   ]
  },
  {
   "cell_type": "code",
   "execution_count": 6,
   "id": "e2dad346-b6e1-4d0f-84db-ad8e136e6be9",
   "metadata": {},
   "outputs": [
    {
     "name": "stdout",
     "output_type": "stream",
     "text": [
      "WARNING:tensorflow:From C:\\Users\\Sadık\\AppData\\Roaming\\Python\\Python312\\site-packages\\tf_keras\\src\\losses.py:2976: The name tf.losses.sparse_softmax_cross_entropy is deprecated. Please use tf.compat.v1.losses.sparse_softmax_cross_entropy instead.\n",
      "\n"
     ]
    },
    {
     "name": "stderr",
     "output_type": "stream",
     "text": [
      "Some weights of Wav2Vec2ForCTC were not initialized from the model checkpoint at facebook/wav2vec2-base-960h and are newly initialized: ['wav2vec2.masked_spec_embed']\n",
      "You should probably TRAIN this model on a down-stream task to be able to use it for predictions and inference.\n",
      "Device set to use cpu\n"
     ]
    }
   ],
   "source": [
    "asr = pipeline(\n",
    "    \"automatic-speech-recognition\",\n",
    "    model=\"facebook/wav2vec2-base-960h\"\n",
    ")"
   ]
  },
  {
   "cell_type": "markdown",
   "id": "8b725d59-8183-4a00-a6db-ebbc81f1e84b",
   "metadata": {},
   "source": [
    "### Tools and Functions"
   ]
  },
  {
   "cell_type": "code",
   "execution_count": 8,
   "id": "66a5f4f1-f519-499f-9063-dd346cd7a6b5",
   "metadata": {},
   "outputs": [],
   "source": [
    "def find_non_commutative_elements(table: Dict[str, Dict[str, str]]) -> Set[str]:\n",
    "    \"\"\"Identifies elements involved in non-commutative pairs for a given operation table.\"\"\"\n",
    "    elements = list(table.keys())\n",
    "    non_commutative = set()\n",
    "    \n",
    "    for x in elements:\n",
    "        for y in elements:\n",
    "            if x != y and table[x][y] != table[y][x]:\n",
    "                non_commutative.update({x, y})\n",
    "    \n",
    "    return non_commutative\n",
    "\n",
    "def commutative_check_tool(self, state: dict) -> dict:\n",
    "    \"\"\"LangGraph tool that checks for non-commutative elements in the operation table. Checks which elements violate commutativity in the operation table\"\"\"\n",
    "\n",
    "    table = state.get(\"operation_table\")\n",
    "    \n",
    "    if not table:\n",
    "        raise ValueError(\"Operation table not found in state\")\n",
    "    \n",
    "    non_comm_elements = self.find_non_commutative_elements(table)\n",
    "    \n",
    "    return {\n",
    "        **state,\n",
    "        \"non_commutative_elements\": sorted(non_comm_elements),\n",
    "        \"is_commutative\": len(non_comm_elements) == 0\n",
    "    }"
   ]
  },
  {
   "cell_type": "code",
   "execution_count": 9,
   "id": "6c9285d1-50a0-40fc-a948-47d348e35261",
   "metadata": {},
   "outputs": [],
   "source": [
    "try:\n",
    "    import filetype\n",
    "except ImportError:\n",
    "    filetype = None\n",
    "\n",
    "try:\n",
    "    import magic\n",
    "    _magic_mime = magic.Magic(mime=True)\n",
    "except ImportError:\n",
    "    _magic_mime = None\n",
    "\n",
    "\n",
    "def download_file_from_url(file_url: str):\n",
    "    \"\"\"\n",
    "    Downloads a file from a URL and attempts to predict its extension\n",
    "    using content-based detection. Handles None or empty URLs gracefully.\n",
    "    \n",
    "    Args:\n",
    "        file_url: The URL of the file to be downloaded.\n",
    "    \n",
    "    Returns:\n",
    "        tuple:\n",
    "            - content (bytes | None): The raw data of the downloaded file, or None if URL is invalid.\n",
    "            - ext (str | None): The predicted file extension (e.g., '.png', '.mp3'),\n",
    "                                or None if the extension cannot be determined.\n",
    "    \"\"\"\n",
    "    \n",
    "    if not file_url:\n",
    "        return None, None\n",
    "\n",
    "    try:\n",
    "        response = requests.get(file_url)\n",
    "        response.raise_for_status()\n",
    "        data = response.content\n",
    "    except Exception:\n",
    "        return None, None\n",
    "\n",
    "    if filetype:\n",
    "        kind = filetype.guess(data)\n",
    "        if kind:\n",
    "            return data, f\".{kind.extension}\"\n",
    "\n",
    "    img_ext = imghdr.what(None, h=data)\n",
    "    if img_ext:\n",
    "        return data, f\".{img_ext}\"\n",
    "\n",
    "    if _magic_mime:\n",
    "        try:\n",
    "            mime = _magic_mime.from_buffer(data)\n",
    "            ext = mimetypes.guess_extension(mime)\n",
    "            return data, ext\n",
    "        except Exception:\n",
    "            pass\n",
    "\n",
    "    return data, None"
   ]
  },
  {
   "cell_type": "code",
   "execution_count": 10,
   "id": "4575abf6-d4bb-4bd1-8f7b-bf19f261ecae",
   "metadata": {},
   "outputs": [],
   "source": [
    "def wiki_search(self, query: str) -> str:\n",
    "    \"\"\"Search Wikipedia for a query and return maximum 2 results.\n",
    "    \n",
    "    Args:\n",
    "        query: The search query.\"\"\"\n",
    "    search_docs = WikipediaLoader(query=query, load_max_docs=2).load()\n",
    "    formatted_search_docs = \"\\n\\n---\\n\\n\".join(\n",
    "        [\n",
    "            f'<Document source=\"{doc.metadata[\"source\"]}\" page=\"{doc.metadata.get(\"page\", \"\")}\"/>\\n{doc.page_content}\\n</Document>'\n",
    "            for doc in search_docs\n",
    "        ])\n",
    "    return formatted_search_docs"
   ]
  },
  {
   "cell_type": "code",
   "execution_count": 11,
   "id": "68ab85ae-b8c5-4258-a3c0-203649fbfff5",
   "metadata": {},
   "outputs": [],
   "source": [
    "def _anylyze_python(data:str):\n",
    "        \"\"\"After downloading a file from a URL, if that file is a Python (.py) file, an analysis tool.\"\"\"\n",
    "        decoded_data = data.decode('utf-8') \n",
    "        formatted_data = decoded_data.encode().decode('unicode_escape') \n",
    "        return formatted_data"
   ]
  },
  {
   "cell_type": "code",
   "execution_count": 12,
   "id": "10bf6b92-f009-4258-bb1f-854efed84c27",
   "metadata": {},
   "outputs": [],
   "source": [
    "def text_from_excel(data:str):\n",
    "    \"\"\"After downloading a file from a URL, if that file is a excel file then use this function to see text format\"\"\"\n",
    "    excel_bytes = data  \n",
    "    \n",
    "    excel_file = BytesIO(excel_bytes)\n",
    "    df = pd.read_excel(excel_file, sheet_name=None)  \n",
    "    \n",
    "    text_output = \"\"\n",
    "    for sheet_name, sheet_df in df.items():\n",
    "        text_output += f\"--- Sheet: {sheet_name} ---\\n\"\n",
    "        text_output += sheet_df.to_string(index=False)\n",
    "        text_output += \"\\n\\n\"\n",
    "    \n",
    "    return text_output"
   ]
  },
  {
   "cell_type": "code",
   "execution_count": 13,
   "id": "5c95b909-104b-4726-b813-7bcf36aab52b",
   "metadata": {},
   "outputs": [],
   "source": [
    "def transcribe_bytes(mp3_bytes: bytes) -> str:\n",
    "    \"\"\"\n",
    "    Convert MP3 bytes to a 16 kHz waveform, then run ASR.\n",
    "    \"\"\"\n",
    "    # Decode MP3 bytes into a numpy array & sample rate\n",
    "    audio, sr = sf.read(io.BytesIO(mp3_bytes))\n",
    "    if sr != 16000:\n",
    "        # Resample if needed (you can use torchaudio or librosa here)\n",
    "        import torchaudio\n",
    "        audio = torchaudio.functional.resample(\n",
    "            torch.tensor(audio).float(), orig_freq=sr, new_freq=16000\n",
    "        ).numpy()\n",
    "    # Pipeline accepts raw array\n",
    "    result = asr(audio)\n",
    "    return result[\"text\"]"
   ]
  },
  {
   "cell_type": "code",
   "execution_count": 14,
   "id": "be4bc312-fd07-4d8a-a603-b9f6d76f5838",
   "metadata": {},
   "outputs": [],
   "source": [
    "web_tool = TavilySearchResults(api_key=TAVILY_API_KEY)"
   ]
  },
  {
   "cell_type": "markdown",
   "id": "160f569d-79cd-4ddd-9488-bf1896c06aad",
   "metadata": {},
   "source": [
    "### Agent"
   ]
  },
  {
   "cell_type": "code",
   "execution_count": 17,
   "id": "0db18a4d-e32f-4c78-8062-7949e5d793bc",
   "metadata": {},
   "outputs": [],
   "source": [
    "tools= [commutative_check_tool, wiki_search, web_tool]"
   ]
  },
  {
   "cell_type": "code",
   "execution_count": 19,
   "id": "60850f90-091b-4217-bea1-298f1f54f5ba",
   "metadata": {},
   "outputs": [],
   "source": [
    "llm_with_tools = llm.bind_tools(tools)"
   ]
  },
  {
   "cell_type": "code",
   "execution_count": 21,
   "id": "7cc94220-8392-443b-8eb4-5afdf22444e6",
   "metadata": {},
   "outputs": [],
   "source": [
    "def assistant(state: MessagesState):\n",
    "    prompt = state['messages']\n",
    "    return {\"messages\": [llm_with_tools.invoke(prompt)]}"
   ]
  },
  {
   "cell_type": "code",
   "execution_count": 23,
   "id": "dacb069c-4d94-4d2c-8cdd-04b0aad15297",
   "metadata": {},
   "outputs": [
    {
     "data": {
      "image/png": "[encoded data removed]",
      "text/plain": [
       "<IPython.core.display.Image object>"
      ]
     },
     "metadata": {},
     "output_type": "display_data"
    }
   ],
   "source": [
    "builder = StateGraph(MessagesState)\n",
    "\n",
    "builder.add_node(\"assistant\", assistant)\n",
    "builder.add_node(\"tools\", ToolNode(tools))\n",
    "\n",
    "builder.add_edge(START, \"assistant\")\n",
    "builder.add_conditional_edges(\n",
    "    \"assistant\",\n",
    "    tools_condition,\n",
    ")\n",
    "builder.add_edge(\"tools\", \"assistant\")\n",
    "\n",
    "memory = MemorySaver()\n",
    "react_graph = builder.compile(checkpointer=memory)\n",
    "# Show\n",
    "display(Image(react_graph.get_graph().draw_mermaid_png()))"
   ]
  },
  {
   "cell_type": "code",
   "execution_count": 25,
   "id": "d6d419c7-aeb6-4fd6-b370-726903878929",
   "metadata": {},
   "outputs": [
    {
     "name": "stdout",
     "output_type": "stream",
     "text": [
      "Please enter a URL if you have one, otherwise you can leave it blank. https://agents-course-unit4-scoring.hf.space/files/1f975693-876d-457b-a649-393859e79bf3\n"
     ]
    }
   ],
   "source": [
    "file_url = input(\"Please enter a URL if you have one, otherwise you can leave it blank.\")"
   ]
  },
  {
   "cell_type": "code",
   "execution_count": 27,
   "id": "a7918a15-ef99-4b92-bd46-84e7b8f5c7eb",
   "metadata": {},
   "outputs": [
    {
     "name": "stdout",
     "output_type": "stream",
     "text": [
      "Please enter your question or input here: Hi, I was out sick from my classes on Friday, so I'm trying to figure out what I need to study for my Calculus mid-term next week. My friend from class sent me an audio recording of Professor Willowbrook giving out the recommended reading for the test, but my headphones are broken :(\\n\\nCould you please listen to the recording for me and tell me the page numbers I'm supposed to go over? I've attached a file called Homework.mp3 that has the recording. Please provide just the page numbers as a comma-delimited list. And please provide the list in ascending order.\n"
     ]
    }
   ],
   "source": [
    "question_text = input(\"Please enter your question or input here:\")\n"
   ]
  },
  {
   "cell_type": "code",
   "execution_count": 29,
   "id": "638c24a8-18b8-4fcb-8a41-bb44d858f3ac",
   "metadata": {},
   "outputs": [],
   "source": [
    "config = {\"configurable\": {\"thread_id\": \"1\"}}\n",
    "data, extension = download_file_from_url(file_url)\n",
    "\n",
    "if extension == \".py\":\n",
    "    final = _anylyze_python(data)\n",
    "    answer =  react_graph.invoke({\"messages\":\"Python Code:\\n\" + final+ \"\\n\\n\"+question_text}, config)   \n",
    "elif extension == \".xlsx\" or extension == \".xls\":\n",
    "    final= text_from_excel(data)\n",
    "    answer = react_graph.invoke({\"messages\":\"Excel file:\\n\" + final+\"\\n\\n\"+question_text}, config)  \n",
    "elif extension == \".mp3\":\n",
    "    audio = transcribe_bytes(data)\n",
    "    answer = react_graph.invoke({\"messages\":\"This is audio data(.mp3), answer accordingly: \"+audio +\"\\n\\n\" +question_text}, config)    \n",
    "else:\n",
    "    answer = react_graph.invoke({\"messages\": question_text}, config)"
   ]
  },
  {
   "cell_type": "code",
   "execution_count": 30,
   "id": "03a1d53b-738c-4b4e-ad7b-ea664cab95f6",
   "metadata": {},
   "outputs": [
    {
     "name": "stdout",
     "output_type": "stream",
     "text": [
      "132, 133, 134, 197, 245\n"
     ]
    }
   ],
   "source": [
    "result = answer['messages'][-1].content \n",
    "print(result)"
   ]
  },
  {
   "cell_type": "code",
   "execution_count": null,
   "id": "5fd42558-a429-44b8-bea5-1017c6792a0b",
   "metadata": {},
   "outputs": [],
   "source": []
  }
 ],
 "metadata": {
  "kernelspec": {
   "display_name": "Python 3 (ipykernel)",
   "language": "python",
   "name": "python3"
  },
  "language_info": {
   "codemirror_mode": {
    "name": "ipython",
    "version": 3
   },
   "file_extension": ".py",
   "mimetype": "text/x-python",
   "name": "python",
   "nbconvert_exporter": "python",
   "pygments_lexer": "ipython3",
   "version": "3.12.3"
  }
 },
 "nbformat": 4,
 "nbformat_minor": 5
}
